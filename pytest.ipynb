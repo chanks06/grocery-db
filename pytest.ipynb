{
 "cells": [
  {
   "cell_type": "code",
   "execution_count": 1,
   "metadata": {},
   "outputs": [
    {
     "name": "stderr",
     "output_type": "stream",
     "text": [
      "C:\\Users\\chanks\\AppData\\Local\\Temp\\ipykernel_9196\\916966793.py:2: DeprecationWarning: \n",
      "Pyarrow will become a required dependency of pandas in the next major release of pandas (pandas 3.0),\n",
      "(to allow more performant data types, such as the Arrow string type, and better interoperability with other libraries)\n",
      "but was not found to be installed on your system.\n",
      "If this would cause problems for you,\n",
      "please provide us feedback at https://github.com/pandas-dev/pandas/issues/54466\n",
      "        \n",
      "  import pandas as pd\n"
     ]
    }
   ],
   "source": [
    "import mysql.connector\n",
    "import pandas as pd \n",
    "import numpy as np \n",
    "from config import HOST, DATABASE, USERNAME, PASSWORD"
   ]
  },
  {
   "cell_type": "code",
   "execution_count": 2,
   "metadata": {},
   "outputs": [
    {
     "name": "stdout",
     "output_type": "stream",
     "text": [
      "Connected to MySQL database\n"
     ]
    }
   ],
   "source": [
    "# connecting to grocery db\n",
    "\n",
    "try:\n",
    "    connection = mysql.connector.connect(\n",
    "        host=HOST,\n",
    "        database=DATABASE,\n",
    "        user=USERNAME,\n",
    "        password=PASSWORD\n",
    "    )\n",
    "\n",
    "    if connection.is_connected():\n",
    "        print(\"Connected to MySQL database\")\n",
    "\n",
    "        # Your database operations go here\n",
    "\n",
    "except mysql.connector.Error as err:\n",
    "    print(f\"Error: {err}\")\n",
    "\n",
    "# finally:\n",
    "    # Close the connection in the finally block to ensure it's always closed\n",
    "    #if 'connection' in locals() and connection.is_connected():\n",
    "    #    connection.close()\n",
    "    #    print(\"Connection closed\")"
   ]
  },
  {
   "cell_type": "code",
   "execution_count": 3,
   "metadata": {},
   "outputs": [],
   "source": [
    "cursor = connection.cursor() "
   ]
  },
  {
   "cell_type": "code",
   "execution_count": 4,
   "metadata": {},
   "outputs": [],
   "source": [
    "stores = (\"SELECT * FROM STORE\")\n",
    "cursor.execute(stores)"
   ]
  },
  {
   "cell_type": "markdown",
   "metadata": {},
   "source": []
  },
  {
   "cell_type": "code",
   "execution_count": 5,
   "metadata": {},
   "outputs": [],
   "source": [
    "store_data =[]\n",
    "for i in cursor: \n",
    "    store_data.append(i)"
   ]
  },
  {
   "cell_type": "code",
   "execution_count": 6,
   "metadata": {},
   "outputs": [],
   "source": [
    "col_names = [i[0] for i in cursor.description]\n",
    "\n",
    "df = pd.DataFrame(store_data, columns = col_names)"
   ]
  },
  {
   "cell_type": "code",
   "execution_count": 7,
   "metadata": {},
   "outputs": [
    {
     "data": {
      "text/html": [
       "<div>\n",
       "<style scoped>\n",
       "    .dataframe tbody tr th:only-of-type {\n",
       "        vertical-align: middle;\n",
       "    }\n",
       "\n",
       "    .dataframe tbody tr th {\n",
       "        vertical-align: top;\n",
       "    }\n",
       "\n",
       "    .dataframe thead th {\n",
       "        text-align: right;\n",
       "    }\n",
       "</style>\n",
       "<table border=\"1\" class=\"dataframe\">\n",
       "  <thead>\n",
       "    <tr style=\"text-align: right;\">\n",
       "      <th></th>\n",
       "      <th>id</th>\n",
       "      <th>name</th>\n",
       "      <th>address</th>\n",
       "    </tr>\n",
       "  </thead>\n",
       "  <tbody>\n",
       "    <tr>\n",
       "      <th>0</th>\n",
       "      <td>1</td>\n",
       "      <td>Fred Meyer</td>\n",
       "      <td>3805 SE Hawthorne Blvd</td>\n",
       "    </tr>\n",
       "    <tr>\n",
       "      <th>1</th>\n",
       "      <td>2</td>\n",
       "      <td>Winco</td>\n",
       "      <td>7979 SE Powell Blvd</td>\n",
       "    </tr>\n",
       "    <tr>\n",
       "      <th>2</th>\n",
       "      <td>3</td>\n",
       "      <td>US FOODS CHEFSTORE</td>\n",
       "      <td>731 SE Stephens St</td>\n",
       "    </tr>\n",
       "    <tr>\n",
       "      <th>3</th>\n",
       "      <td>4</td>\n",
       "      <td>Trader Joes</td>\n",
       "      <td>4121 NE Halsey St</td>\n",
       "    </tr>\n",
       "    <tr>\n",
       "      <th>4</th>\n",
       "      <td>5</td>\n",
       "      <td>Whole Foods</td>\n",
       "      <td>2825 E Burnside St</td>\n",
       "    </tr>\n",
       "    <tr>\n",
       "      <th>5</th>\n",
       "      <td>6</td>\n",
       "      <td>Target</td>\n",
       "      <td>3031 SE Powell Blvd</td>\n",
       "    </tr>\n",
       "    <tr>\n",
       "      <th>6</th>\n",
       "      <td>7</td>\n",
       "      <td>New Seasons Market</td>\n",
       "      <td>1954 SE Division St</td>\n",
       "    </tr>\n",
       "    <tr>\n",
       "      <th>7</th>\n",
       "      <td>8</td>\n",
       "      <td>Costco</td>\n",
       "      <td>13130 SE 84th Ave, Clackamas, OR 97015</td>\n",
       "    </tr>\n",
       "    <tr>\n",
       "      <th>8</th>\n",
       "      <td>9</td>\n",
       "      <td>Fred Meyer</td>\n",
       "      <td>6615 NE Glisan St</td>\n",
       "    </tr>\n",
       "    <tr>\n",
       "      <th>9</th>\n",
       "      <td>10</td>\n",
       "      <td>New Seasons Market</td>\n",
       "      <td>3210 NE Broadway</td>\n",
       "    </tr>\n",
       "  </tbody>\n",
       "</table>\n",
       "</div>"
      ],
      "text/plain": [
       "   id                name                                 address\n",
       "0   1          Fred Meyer                  3805 SE Hawthorne Blvd\n",
       "1   2               Winco                     7979 SE Powell Blvd\n",
       "2   3  US FOODS CHEFSTORE                      731 SE Stephens St\n",
       "3   4         Trader Joes                       4121 NE Halsey St\n",
       "4   5         Whole Foods                      2825 E Burnside St\n",
       "5   6              Target                     3031 SE Powell Blvd\n",
       "6   7  New Seasons Market                     1954 SE Division St\n",
       "7   8              Costco  13130 SE 84th Ave, Clackamas, OR 97015\n",
       "8   9          Fred Meyer                       6615 NE Glisan St\n",
       "9  10  New Seasons Market                        3210 NE Broadway"
      ]
     },
     "execution_count": 7,
     "metadata": {},
     "output_type": "execute_result"
    }
   ],
   "source": [
    "df"
   ]
  },
  {
   "cell_type": "code",
   "execution_count": 8,
   "metadata": {},
   "outputs": [],
   "source": [
    "# okay I have successfully queried data from the mysql db and stored it in a pandas dataframe\n",
    "#let's formalize this process by creating a function"
   ]
  },
  {
   "cell_type": "code",
   "execution_count": 9,
   "metadata": {},
   "outputs": [],
   "source": [
    "#making sure I know how to parameterize a query...while avoiding an sql injection\n",
    "def table_grabber(table):\n",
    "    \n",
    "    query = \"SELECT * from {}\"\n",
    "    query_ready = query.format(table)\n",
    "\n",
    "    cursor.execute(query_ready)\n",
    "\n",
    "    data =[] # empty list to dump queried data into\n",
    "    for x in cursor: \n",
    "        data.append(x)\n",
    "    \n",
    "    col_names = [i[0] for i in cursor.description]\n",
    "\n",
    "    df = pd.DataFrame(data, columns = col_names)\n",
    "\n",
    "    return df\n"
   ]
  },
  {
   "cell_type": "code",
   "execution_count": 10,
   "metadata": {},
   "outputs": [],
   "source": [
    "# my lovely tables \n",
    "stores = table_grabber(\"store\")\n",
    "trips = table_grabber(\"trips\")\n",
    "items = table_grabber(\"items\")"
   ]
  },
  {
   "cell_type": "code",
   "execution_count": 14,
   "metadata": {},
   "outputs": [
    {
     "data": {
      "text/plain": [
       "40.189756097560974"
      ]
     },
     "execution_count": 14,
     "metadata": {},
     "output_type": "execute_result"
    }
   ],
   "source": [
    "#what is average cost per grocery trip ? \n",
    "\n",
    "trips['total_cost'].mean() \n",
    "\n",
    "#$ 40.20 -- this aligns with my intuition. As a child I would accompany my mom to buy groceries. Her budget was usually $40. "
   ]
  },
  {
   "cell_type": "code",
   "execution_count": 18,
   "metadata": {},
   "outputs": [
    {
     "data": {
      "text/plain": [
       "id             int64\n",
       "store_id       int64\n",
       "date          object\n",
       "total_cost    object\n",
       "dtype: object"
      ]
     },
     "execution_count": 18,
     "metadata": {},
     "output_type": "execute_result"
    }
   ],
   "source": [
    "#how about average monthly grocery expenses? \n",
    "\n",
    "# I could do this easily in R with %>% and group_by(), but I need to refresh my pandas skills....\n",
    "\n",
    "#first I need to make sure the date column in trips is a datetime object: \n",
    "\n",
    "trips.dtypes"
   ]
  },
  {
   "cell_type": "code",
   "execution_count": 19,
   "metadata": {},
   "outputs": [],
   "source": [
    "trips['date'] = pd.to_datetime(trips['date'])"
   ]
  },
  {
   "cell_type": "code",
   "execution_count": 23,
   "metadata": {},
   "outputs": [
    {
     "data": {
      "text/plain": [
       "date\n",
       "2023    39.411429\n",
       "2024    41.866154\n",
       "Name: total_cost, dtype: object"
      ]
     },
     "execution_count": 23,
     "metadata": {},
     "output_type": "execute_result"
    }
   ],
   "source": [
    "trips.groupby(trips['date'].dt.strftime('%B'))['total_cost'].sum()\n",
    "\n",
    "#dt.strftime is the accessor in pandas to grab a part of the datetime object.'%B' is the full month name\n",
    "# here are some other options \n",
    "'''\n",
    "    %Y: Year with century as a decimal number (e.g., 2022).\n",
    "    %m: Month as a zero-padded decimal number (01, 02, ..., 12).\n",
    "    %d: Day of the month as a zero-padded decimal number (01, 02, ..., 31).\n",
    "    %H: Hour (00, 01, ..., 23).\n",
    "    %M: Minute (00, 01, ..., 59).\n",
    "    %S: Second (00, 01, ..., 59).\n",
    "'''\n",
    "\n",
    "# for example, the average per year: \n",
    "\n",
    "trips.groupby(trips['date'].dt.strftime('%Y'))['total_cost'].mean()"
   ]
  },
  {
   "cell_type": "code",
   "execution_count": 29,
   "metadata": {},
   "outputs": [
    {
     "data": {
      "text/plain": [
       "date\n",
       "00    119.82\n",
       "02     37.10\n",
       "03    144.12\n",
       "04     74.42\n",
       "05    127.83\n",
       "06     40.97\n",
       "36     18.65\n",
       "37     87.11\n",
       "38    157.14\n",
       "39     79.44\n",
       "40    115.12\n",
       "41     15.47\n",
       "42     35.53\n",
       "43     46.03\n",
       "44      9.97\n",
       "45    105.22\n",
       "46     20.60\n",
       "47    118.14\n",
       "48     85.66\n",
       "49     14.38\n",
       "50     96.07\n",
       "51     98.99\n",
       "Name: total_cost, dtype: object"
      ]
     },
     "execution_count": 29,
     "metadata": {},
     "output_type": "execute_result"
    }
   ],
   "source": [
    "# group by week: \n",
    "\n",
    "trips.groupby(trips['date'].dt.strftime('%U'))['total_cost'].sum()"
   ]
  },
  {
   "cell_type": "code",
   "execution_count": 34,
   "metadata": {},
   "outputs": [
    {
     "data": {
      "text/plain": [
       "date\n",
       "December     6\n",
       "February     6\n",
       "January      7\n",
       "November     8\n",
       "October      7\n",
       "September    7\n",
       "Name: id, dtype: int64"
      ]
     },
     "execution_count": 34,
     "metadata": {},
     "output_type": "execute_result"
    }
   ],
   "source": [
    "# How many trips per week on average do I go to the grocery store? \n",
    "\n",
    "trips.groupby(trips['date'].dt.strftime('%B'))['id'].count()"
   ]
  },
  {
   "cell_type": "code",
   "execution_count": 35,
   "metadata": {},
   "outputs": [
    {
     "data": {
      "text/plain": [
       "id            41\n",
       "store_id      41\n",
       "date          41\n",
       "total_cost    41\n",
       "dtype: int64"
      ]
     },
     "execution_count": 35,
     "metadata": {},
     "output_type": "execute_result"
    }
   ],
   "source": [
    "trips.count()"
   ]
  },
  {
   "cell_type": "code",
   "execution_count": null,
   "metadata": {},
   "outputs": [],
   "source": []
  }
 ],
 "metadata": {
  "kernelspec": {
   "display_name": "Python 3",
   "language": "python",
   "name": "python3"
  },
  "language_info": {
   "codemirror_mode": {
    "name": "ipython",
    "version": 3
   },
   "file_extension": ".py",
   "mimetype": "text/x-python",
   "name": "python",
   "nbconvert_exporter": "python",
   "pygments_lexer": "ipython3",
   "version": "3.12.0"
  }
 },
 "nbformat": 4,
 "nbformat_minor": 2
}
