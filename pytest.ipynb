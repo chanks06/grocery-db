{
 "cells": [
  {
   "cell_type": "code",
   "execution_count": null,
   "metadata": {},
   "outputs": [],
   "source": [
    "import mysql.connector\n",
    "import pandas as pd \n",
    "import numpy as np \n",
    "from config import HOST, DATABASE, USERNAME, PASSWORD"
   ]
  },
  {
   "cell_type": "code",
   "execution_count": null,
   "metadata": {},
   "outputs": [
    {
     "name": "stdout",
     "output_type": "stream",
     "text": [
      "Connected to MySQL database\n"
     ]
    }
   ],
   "source": [
    "# connecting to grocery db\n",
    "\n",
    "try:\n",
    "    connection = mysql.connector.connect(\n",
    "        host=HOST,\n",
    "        database=DATABASE,\n",
    "        user=USERNAME,\n",
    "        password=PASSWORD\n",
    "    )\n",
    "\n",
    "    if connection.is_connected():\n",
    "        print(\"Connected to MySQL database\")\n",
    "\n",
    "        # Your database operations go here\n",
    "\n",
    "except mysql.connector.Error as err:\n",
    "    print(f\"Error: {err}\")\n",
    "\n",
    "# finally:\n",
    "    # Close the connection in the finally block to ensure it's always closed\n",
    "    #if 'connection' in locals() and connection.is_connected():\n",
    "    #    connection.close()\n",
    "    #    print(\"Connection closed\")\n",
    "\n",
    "cursor = connection.cursor() "
   ]
  },
  {
   "cell_type": "code",
   "execution_count": null,
   "metadata": {},
   "outputs": [],
   "source": [
    "items = (\"SELECT * FROM ITEMS\")\n",
    "cursor.execute(items)"
   ]
  },
  {
   "cell_type": "code",
   "execution_count": null,
   "metadata": {},
   "outputs": [],
   "source": [
    "col_info = cursor.description\n",
    "col_types = [col[1] for col in col_info] "
   ]
  },
  {
   "cell_type": "code",
   "execution_count": null,
   "metadata": {},
   "outputs": [
    {
     "name": "stdout",
     "output_type": "stream",
     "text": [
      "[2, 253, 253, 246, 246, 246, 253, 246]\n"
     ]
    }
   ],
   "source": [
    "print(col_types)\n",
    "# these are the data types - each number corresponds to a specific data type in mysql. \n",
    "'''\n",
    "    2: MySQL type TINYINT\n",
    "    253: MySQL type VAR_STRING (VARCHAR)\n",
    "    246: MySQL type NEWDECIMAL\n",
    "'''\n",
    "\n",
    "\n"
   ]
  },
  {
   "cell_type": "markdown",
   "metadata": {},
   "source": []
  },
  {
   "cell_type": "markdown",
   "metadata": {},
   "source": []
  },
  {
   "cell_type": "markdown",
   "metadata": {},
   "source": []
  },
  {
   "cell_type": "code",
   "execution_count": null,
   "metadata": {},
   "outputs": [
    {
     "data": {
      "text/html": [
       "<div>\n",
       "<style scoped>\n",
       "    .dataframe tbody tr th:only-of-type {\n",
       "        vertical-align: middle;\n",
       "    }\n",
       "\n",
       "    .dataframe tbody tr th {\n",
       "        vertical-align: top;\n",
       "    }\n",
       "\n",
       "    .dataframe thead th {\n",
       "        text-align: right;\n",
       "    }\n",
       "</style>\n",
       "<table border=\"1\" class=\"dataframe\">\n",
       "  <thead>\n",
       "    <tr style=\"text-align: right;\">\n",
       "      <th></th>\n",
       "      <th>trip_id</th>\n",
       "      <th>product_name</th>\n",
       "      <th>quantity_unit</th>\n",
       "      <th>quantity</th>\n",
       "      <th>price_per_unit</th>\n",
       "      <th>total_price</th>\n",
       "      <th>sku</th>\n",
       "      <th>weight_oz</th>\n",
       "    </tr>\n",
       "  </thead>\n",
       "  <tbody>\n",
       "    <tr>\n",
       "      <th>0</th>\n",
       "      <td>1</td>\n",
       "      <td>APPLES COSMIC CRISP</td>\n",
       "      <td>LBS</td>\n",
       "      <td>2.79</td>\n",
       "      <td>2.50</td>\n",
       "      <td>6.92</td>\n",
       "      <td>84747300763</td>\n",
       "      <td>None</td>\n",
       "    </tr>\n",
       "    <tr>\n",
       "      <th>1</th>\n",
       "      <td>1</td>\n",
       "      <td>BANANAS</td>\n",
       "      <td>LBS</td>\n",
       "      <td>2.53</td>\n",
       "      <td>0.65</td>\n",
       "      <td>1.64</td>\n",
       "      <td>64312604011</td>\n",
       "      <td>None</td>\n",
       "    </tr>\n",
       "    <tr>\n",
       "      <th>2</th>\n",
       "      <td>1</td>\n",
       "      <td>KROGER SUPER</td>\n",
       "      <td>PC</td>\n",
       "      <td>1.00</td>\n",
       "      <td>2.50</td>\n",
       "      <td>2.50</td>\n",
       "      <td>1111002660</td>\n",
       "      <td>None</td>\n",
       "    </tr>\n",
       "    <tr>\n",
       "      <th>3</th>\n",
       "      <td>1</td>\n",
       "      <td>LACINATO KALE</td>\n",
       "      <td>PC</td>\n",
       "      <td>1.00</td>\n",
       "      <td>1.99</td>\n",
       "      <td>1.99</td>\n",
       "      <td>81490501036</td>\n",
       "      <td>None</td>\n",
       "    </tr>\n",
       "    <tr>\n",
       "      <th>4</th>\n",
       "      <td>1</td>\n",
       "      <td>NECTARINES ORGANIC</td>\n",
       "      <td>LBS</td>\n",
       "      <td>1.60</td>\n",
       "      <td>3.49</td>\n",
       "      <td>5.55</td>\n",
       "      <td>74183993035</td>\n",
       "      <td>None</td>\n",
       "    </tr>\n",
       "    <tr>\n",
       "      <th>...</th>\n",
       "      <td>...</td>\n",
       "      <td>...</td>\n",
       "      <td>...</td>\n",
       "      <td>...</td>\n",
       "      <td>...</td>\n",
       "      <td>...</td>\n",
       "      <td>...</td>\n",
       "      <td>...</td>\n",
       "    </tr>\n",
       "    <tr>\n",
       "      <th>362</th>\n",
       "      <td>43</td>\n",
       "      <td>CUCUMBER</td>\n",
       "      <td>PC</td>\n",
       "      <td>1.00</td>\n",
       "      <td>1.49</td>\n",
       "      <td>1.49</td>\n",
       "      <td>71106994062</td>\n",
       "      <td>None</td>\n",
       "    </tr>\n",
       "    <tr>\n",
       "      <th>363</th>\n",
       "      <td>43</td>\n",
       "      <td>HONEY TURKEY SLICED DELI</td>\n",
       "      <td>PC</td>\n",
       "      <td>1.00</td>\n",
       "      <td>8.57</td>\n",
       "      <td>8.57</td>\n",
       "      <td>20593890000</td>\n",
       "      <td>96</td>\n",
       "    </tr>\n",
       "    <tr>\n",
       "      <th>364</th>\n",
       "      <td>43</td>\n",
       "      <td>KROGER AMERICAN CHEESE DELI</td>\n",
       "      <td>PC</td>\n",
       "      <td>1.00</td>\n",
       "      <td>7.03</td>\n",
       "      <td>7.03</td>\n",
       "      <td>20635090000</td>\n",
       "      <td>None</td>\n",
       "    </tr>\n",
       "    <tr>\n",
       "      <th>365</th>\n",
       "      <td>43</td>\n",
       "      <td>SPINDRIFT 8 PK GRAPEFRUIT</td>\n",
       "      <td>PC</td>\n",
       "      <td>1.00</td>\n",
       "      <td>6.79</td>\n",
       "      <td>6.79</td>\n",
       "      <td>85657900232</td>\n",
       "      <td>96</td>\n",
       "    </tr>\n",
       "    <tr>\n",
       "      <th>366</th>\n",
       "      <td>43</td>\n",
       "      <td>TIMS CHIPS</td>\n",
       "      <td>PC</td>\n",
       "      <td>1.00</td>\n",
       "      <td>3.99</td>\n",
       "      <td>3.99</td>\n",
       "      <td>1159475300</td>\n",
       "      <td>None</td>\n",
       "    </tr>\n",
       "  </tbody>\n",
       "</table>\n",
       "<p>367 rows × 8 columns</p>\n",
       "</div>"
      ],
      "text/plain": [
       "     trip_id                 product_name quantity_unit quantity  \\\n",
       "0          1          APPLES COSMIC CRISP           LBS     2.79   \n",
       "1          1                      BANANAS           LBS     2.53   \n",
       "2          1                 KROGER SUPER            PC     1.00   \n",
       "3          1                LACINATO KALE            PC     1.00   \n",
       "4          1           NECTARINES ORGANIC           LBS     1.60   \n",
       "..       ...                          ...           ...      ...   \n",
       "362       43                     CUCUMBER            PC     1.00   \n",
       "363       43     HONEY TURKEY SLICED DELI            PC     1.00   \n",
       "364       43  KROGER AMERICAN CHEESE DELI            PC     1.00   \n",
       "365       43    SPINDRIFT 8 PK GRAPEFRUIT            PC     1.00   \n",
       "366       43                   TIMS CHIPS            PC     1.00   \n",
       "\n",
       "    price_per_unit total_price          sku weight_oz  \n",
       "0             2.50        6.92  84747300763      None  \n",
       "1             0.65        1.64  64312604011      None  \n",
       "2             2.50        2.50   1111002660      None  \n",
       "3             1.99        1.99  81490501036      None  \n",
       "4             3.49        5.55  74183993035      None  \n",
       "..             ...         ...          ...       ...  \n",
       "362           1.49        1.49  71106994062      None  \n",
       "363           8.57        8.57  20593890000        96  \n",
       "364           7.03        7.03  20635090000      None  \n",
       "365           6.79        6.79  85657900232        96  \n",
       "366           3.99        3.99   1159475300      None  \n",
       "\n",
       "[367 rows x 8 columns]"
      ]
     },
     "execution_count": 108,
     "metadata": {},
     "output_type": "execute_result"
    }
   ],
   "source": [
    "store_data =[]\n",
    "for i in cursor: \n",
    "    store_data.append(i)\n",
    "\n",
    "col_names = [i[0] for i in cursor.description]\n",
    "\n",
    "df = pd.DataFrame(store_data, columns = col_names)\n",
    "\n",
    "conditions = [2,253,256]\n",
    "choices = []\n",
    "df\n"
   ]
  },
  {
   "cell_type": "code",
   "execution_count": null,
   "metadata": {},
   "outputs": [
    {
     "data": {
      "text/plain": [
       "True"
      ]
     },
     "execution_count": 123,
     "metadata": {},
     "output_type": "execute_result"
    }
   ],
   "source": [
    "isinstance(df['product_name'], object) "
   ]
  },
  {
   "cell_type": "code",
   "execution_count": null,
   "metadata": {},
   "outputs": [],
   "source": [
    "# okay I have successfully queried data from the mysql db and stored it in a pandas dataframe\n",
    "#let's formalize this process by creating a function"
   ]
  },
  {
   "cell_type": "code",
   "execution_count": null,
   "metadata": {},
   "outputs": [],
   "source": [
    "#making sure I know how to parameterize a query...while avoiding an sql injection\n",
    "def table_grabber(table):\n",
    "    \n",
    "    query = \"SELECT * from {}\"\n",
    "    query_ready = query.format(table)\n",
    "\n",
    "    cursor.execute(query_ready)\n",
    "\n",
    "    data =[] # empty list to dump queried data into\n",
    "    for x in cursor: \n",
    "        data.append(x)\n",
    "    \n",
    "    col_names = [i[0] for i in cursor.description]\n",
    "\n",
    "    df = pd.DataFrame(data, columns = col_names)\n",
    "\n",
    "    #coercing columns read in as 'object' that need to be numeric \n",
    "    #num_cols = df.select_dtypes(include = ['object']).columns\n",
    "    #df[num_cols] = df[num_cols].apply(pd.to_numeric, errors = 'coerce')\n",
    "\n",
    "    return df\n"
   ]
  },
  {
   "cell_type": "code",
   "execution_count": null,
   "metadata": {},
   "outputs": [
    {
     "ename": "InternalError",
     "evalue": "Unread result found",
     "output_type": "error",
     "traceback": [
      "\u001b[1;31m---------------------------------------------------------------------------\u001b[0m",
      "\u001b[1;31mInternalError\u001b[0m                             Traceback (most recent call last)",
      "Cell \u001b[1;32mIn[105], line 2\u001b[0m\n\u001b[0;32m      1\u001b[0m \u001b[38;5;66;03m# my lovely tables \u001b[39;00m\n\u001b[1;32m----> 2\u001b[0m stores \u001b[38;5;241m=\u001b[39m \u001b[43mtable_grabber\u001b[49m\u001b[43m(\u001b[49m\u001b[38;5;124;43m\"\u001b[39;49m\u001b[38;5;124;43mstore\u001b[39;49m\u001b[38;5;124;43m\"\u001b[39;49m\u001b[43m)\u001b[49m\n\u001b[0;32m      3\u001b[0m trips \u001b[38;5;241m=\u001b[39m table_grabber(\u001b[38;5;124m\"\u001b[39m\u001b[38;5;124mtrips\u001b[39m\u001b[38;5;124m\"\u001b[39m)\n\u001b[0;32m      4\u001b[0m items \u001b[38;5;241m=\u001b[39m table_grabber(\u001b[38;5;124m\"\u001b[39m\u001b[38;5;124mitems\u001b[39m\u001b[38;5;124m\"\u001b[39m)\n",
      "Cell \u001b[1;32mIn[90], line 7\u001b[0m, in \u001b[0;36mtable_grabber\u001b[1;34m(table)\u001b[0m\n\u001b[0;32m      4\u001b[0m query \u001b[38;5;241m=\u001b[39m \u001b[38;5;124m\"\u001b[39m\u001b[38;5;124mSELECT * from \u001b[39m\u001b[38;5;132;01m{}\u001b[39;00m\u001b[38;5;124m\"\u001b[39m\n\u001b[0;32m      5\u001b[0m query_ready \u001b[38;5;241m=\u001b[39m query\u001b[38;5;241m.\u001b[39mformat(table)\n\u001b[1;32m----> 7\u001b[0m \u001b[43mcursor\u001b[49m\u001b[38;5;241;43m.\u001b[39;49m\u001b[43mexecute\u001b[49m\u001b[43m(\u001b[49m\u001b[43mquery_ready\u001b[49m\u001b[43m)\u001b[49m\n\u001b[0;32m      9\u001b[0m data \u001b[38;5;241m=\u001b[39m[] \u001b[38;5;66;03m# empty list to dump queried data into\u001b[39;00m\n\u001b[0;32m     10\u001b[0m \u001b[38;5;28;01mfor\u001b[39;00m x \u001b[38;5;129;01min\u001b[39;00m cursor: \n",
      "File \u001b[1;32mc:\\Python312\\Lib\\site-packages\\mysql\\connector\\cursor_cext.py:347\u001b[0m, in \u001b[0;36mCMySQLCursor.execute\u001b[1;34m(self, operation, params, multi)\u001b[0m\n\u001b[0;32m    345\u001b[0m \u001b[38;5;28;01mexcept\u001b[39;00m (ProgrammingError, \u001b[38;5;167;01mReferenceError\u001b[39;00m) \u001b[38;5;28;01mas\u001b[39;00m err:\n\u001b[0;32m    346\u001b[0m     \u001b[38;5;28;01mraise\u001b[39;00m ProgrammingError(\u001b[38;5;124m\"\u001b[39m\u001b[38;5;124mCursor is not connected\u001b[39m\u001b[38;5;124m\"\u001b[39m, \u001b[38;5;241m2055\u001b[39m) \u001b[38;5;28;01mfrom\u001b[39;00m \u001b[38;5;21;01merr\u001b[39;00m\n\u001b[1;32m--> 347\u001b[0m \u001b[38;5;28;43mself\u001b[39;49m\u001b[38;5;241;43m.\u001b[39;49m\u001b[43m_cnx\u001b[49m\u001b[38;5;241;43m.\u001b[39;49m\u001b[43mhandle_unread_result\u001b[49m\u001b[43m(\u001b[49m\u001b[43m)\u001b[49m\n\u001b[0;32m    349\u001b[0m stmt \u001b[38;5;241m=\u001b[39m \u001b[38;5;124mb\u001b[39m\u001b[38;5;124m\"\u001b[39m\u001b[38;5;124m\"\u001b[39m\n\u001b[0;32m    350\u001b[0m \u001b[38;5;28mself\u001b[39m\u001b[38;5;241m.\u001b[39mreset()\n",
      "File \u001b[1;32mc:\\Python312\\Lib\\site-packages\\mysql\\connector\\connection_cext.py:990\u001b[0m, in \u001b[0;36mCMySQLConnection.handle_unread_result\u001b[1;34m(self, prepared)\u001b[0m\n\u001b[0;32m    988\u001b[0m     \u001b[38;5;28mself\u001b[39m\u001b[38;5;241m.\u001b[39mconsume_results()\n\u001b[0;32m    989\u001b[0m \u001b[38;5;28;01melif\u001b[39;00m unread_result:\n\u001b[1;32m--> 990\u001b[0m     \u001b[38;5;28;01mraise\u001b[39;00m InternalError(\u001b[38;5;124m\"\u001b[39m\u001b[38;5;124mUnread result found\u001b[39m\u001b[38;5;124m\"\u001b[39m)\n",
      "\u001b[1;31mInternalError\u001b[0m: Unread result found"
     ]
    }
   ],
   "source": [
    "# my lovely tables \n",
    "stores = table_grabber(\"store\")\n",
    "trips = table_grabber(\"trips\")\n",
    "items = table_grabber(\"items\")"
   ]
  },
  {
   "cell_type": "code",
   "execution_count": null,
   "metadata": {},
   "outputs": [
    {
     "ename": "KeyError",
     "evalue": "'trip_id'",
     "output_type": "error",
     "traceback": [
      "\u001b[1;31m---------------------------------------------------------------------------\u001b[0m",
      "\u001b[1;31mKeyError\u001b[0m                                  Traceback (most recent call last)",
      "File \u001b[1;32mc:\\Python312\\Lib\\site-packages\\pandas\\core\\indexes\\base.py:3802\u001b[0m, in \u001b[0;36mIndex.get_loc\u001b[1;34m(self, key)\u001b[0m\n\u001b[0;32m   3801\u001b[0m \u001b[38;5;28;01mtry\u001b[39;00m:\n\u001b[1;32m-> 3802\u001b[0m     \u001b[38;5;28;01mreturn\u001b[39;00m \u001b[38;5;28;43mself\u001b[39;49m\u001b[38;5;241;43m.\u001b[39;49m\u001b[43m_engine\u001b[49m\u001b[38;5;241;43m.\u001b[39;49m\u001b[43mget_loc\u001b[49m\u001b[43m(\u001b[49m\u001b[43mcasted_key\u001b[49m\u001b[43m)\u001b[49m\n\u001b[0;32m   3803\u001b[0m \u001b[38;5;28;01mexcept\u001b[39;00m \u001b[38;5;167;01mKeyError\u001b[39;00m \u001b[38;5;28;01mas\u001b[39;00m err:\n",
      "File \u001b[1;32mindex.pyx:153\u001b[0m, in \u001b[0;36mpandas._libs.index.IndexEngine.get_loc\u001b[1;34m()\u001b[0m\n",
      "File \u001b[1;32mindex.pyx:182\u001b[0m, in \u001b[0;36mpandas._libs.index.IndexEngine.get_loc\u001b[1;34m()\u001b[0m\n",
      "File \u001b[1;32mpandas\\\\_libs\\\\hashtable_class_helper.pxi:7081\u001b[0m, in \u001b[0;36mpandas._libs.hashtable.PyObjectHashTable.get_item\u001b[1;34m()\u001b[0m\n",
      "File \u001b[1;32mpandas\\\\_libs\\\\hashtable_class_helper.pxi:7089\u001b[0m, in \u001b[0;36mpandas._libs.hashtable.PyObjectHashTable.get_item\u001b[1;34m()\u001b[0m\n",
      "\u001b[1;31mKeyError\u001b[0m: 'trip_id'",
      "\nThe above exception was the direct cause of the following exception:\n",
      "\u001b[1;31mKeyError\u001b[0m                                  Traceback (most recent call last)",
      "Cell \u001b[1;32mIn[104], line 3\u001b[0m\n\u001b[0;32m      1\u001b[0m \u001b[38;5;66;03m#that didn't work, now it casting any and all objects as numerics. \u001b[39;00m\n\u001b[1;32m----> 3\u001b[0m \u001b[38;5;28misinstance\u001b[39m(\u001b[43mtrips\u001b[49m\u001b[43m[\u001b[49m\u001b[38;5;124;43m'\u001b[39;49m\u001b[38;5;124;43mtrip_id\u001b[39;49m\u001b[38;5;124;43m'\u001b[39;49m\u001b[43m]\u001b[49m) \u001b[38;5;241m==\u001b[39m int64\n",
      "File \u001b[1;32mc:\\Python312\\Lib\\site-packages\\pandas\\core\\frame.py:4090\u001b[0m, in \u001b[0;36mDataFrame.__getitem__\u001b[1;34m(self, key)\u001b[0m\n\u001b[0;32m   4088\u001b[0m \u001b[38;5;28;01mif\u001b[39;00m \u001b[38;5;28mself\u001b[39m\u001b[38;5;241m.\u001b[39mcolumns\u001b[38;5;241m.\u001b[39mnlevels \u001b[38;5;241m>\u001b[39m \u001b[38;5;241m1\u001b[39m:\n\u001b[0;32m   4089\u001b[0m     \u001b[38;5;28;01mreturn\u001b[39;00m \u001b[38;5;28mself\u001b[39m\u001b[38;5;241m.\u001b[39m_getitem_multilevel(key)\n\u001b[1;32m-> 4090\u001b[0m indexer \u001b[38;5;241m=\u001b[39m \u001b[38;5;28;43mself\u001b[39;49m\u001b[38;5;241;43m.\u001b[39;49m\u001b[43mcolumns\u001b[49m\u001b[38;5;241;43m.\u001b[39;49m\u001b[43mget_loc\u001b[49m\u001b[43m(\u001b[49m\u001b[43mkey\u001b[49m\u001b[43m)\u001b[49m\n\u001b[0;32m   4091\u001b[0m \u001b[38;5;28;01mif\u001b[39;00m is_integer(indexer):\n\u001b[0;32m   4092\u001b[0m     indexer \u001b[38;5;241m=\u001b[39m [indexer]\n",
      "File \u001b[1;32mc:\\Python312\\Lib\\site-packages\\pandas\\core\\indexes\\base.py:3809\u001b[0m, in \u001b[0;36mIndex.get_loc\u001b[1;34m(self, key)\u001b[0m\n\u001b[0;32m   3804\u001b[0m     \u001b[38;5;28;01mif\u001b[39;00m \u001b[38;5;28misinstance\u001b[39m(casted_key, \u001b[38;5;28mslice\u001b[39m) \u001b[38;5;129;01mor\u001b[39;00m (\n\u001b[0;32m   3805\u001b[0m         \u001b[38;5;28misinstance\u001b[39m(casted_key, abc\u001b[38;5;241m.\u001b[39mIterable)\n\u001b[0;32m   3806\u001b[0m         \u001b[38;5;129;01mand\u001b[39;00m \u001b[38;5;28many\u001b[39m(\u001b[38;5;28misinstance\u001b[39m(x, \u001b[38;5;28mslice\u001b[39m) \u001b[38;5;28;01mfor\u001b[39;00m x \u001b[38;5;129;01min\u001b[39;00m casted_key)\n\u001b[0;32m   3807\u001b[0m     ):\n\u001b[0;32m   3808\u001b[0m         \u001b[38;5;28;01mraise\u001b[39;00m InvalidIndexError(key)\n\u001b[1;32m-> 3809\u001b[0m     \u001b[38;5;28;01mraise\u001b[39;00m \u001b[38;5;167;01mKeyError\u001b[39;00m(key) \u001b[38;5;28;01mfrom\u001b[39;00m \u001b[38;5;21;01merr\u001b[39;00m\n\u001b[0;32m   3810\u001b[0m \u001b[38;5;28;01mexcept\u001b[39;00m \u001b[38;5;167;01mTypeError\u001b[39;00m:\n\u001b[0;32m   3811\u001b[0m     \u001b[38;5;66;03m# If we have a listlike key, _check_indexing_error will raise\u001b[39;00m\n\u001b[0;32m   3812\u001b[0m     \u001b[38;5;66;03m#  InvalidIndexError. Otherwise we fall through and re-raise\u001b[39;00m\n\u001b[0;32m   3813\u001b[0m     \u001b[38;5;66;03m#  the TypeError.\u001b[39;00m\n\u001b[0;32m   3814\u001b[0m     \u001b[38;5;28mself\u001b[39m\u001b[38;5;241m.\u001b[39m_check_indexing_error(key)\n",
      "\u001b[1;31mKeyError\u001b[0m: 'trip_id'"
     ]
    }
   ],
   "source": [
    "#that didn't work, now it casting any and all objects as numerics. "
   ]
  },
  {
   "cell_type": "code",
   "execution_count": null,
   "metadata": {},
   "outputs": [
    {
     "data": {
      "text/plain": [
       "40.189756097560974"
      ]
     },
     "execution_count": 61,
     "metadata": {},
     "output_type": "execute_result"
    }
   ],
   "source": [
    "#what is average cost per grocery trip ? \n",
    "\n",
    "trips['total_cost'].mean() \n",
    "\n",
    "#$ 40.20 -- this aligns with my intuition. As a child I would accompany my mom to buy groceries. Her budget was usually $40. "
   ]
  },
  {
   "cell_type": "code",
   "execution_count": null,
   "metadata": {},
   "outputs": [
    {
     "data": {
      "text/plain": [
       "id             int64\n",
       "store_id       int64\n",
       "date          object\n",
       "total_cost    object\n",
       "dtype: object"
      ]
     },
     "execution_count": 62,
     "metadata": {},
     "output_type": "execute_result"
    }
   ],
   "source": [
    "#how about average monthly grocery expenses? \n",
    "\n",
    "# I could do this easily in R with %>% and group_by(), but I need to refresh my pandas skills....\n",
    "\n",
    "#first I need to make sure the date column in trips is a datetime object: \n",
    "\n",
    "trips.dtypes"
   ]
  },
  {
   "cell_type": "code",
   "execution_count": null,
   "metadata": {},
   "outputs": [],
   "source": [
    "trips['date'] = pd.to_datetime(trips['date'])"
   ]
  },
  {
   "cell_type": "code",
   "execution_count": null,
   "metadata": {},
   "outputs": [
    {
     "data": {
      "text/plain": [
       "date\n",
       "2023    39.411429\n",
       "2024    41.866154\n",
       "Name: total_cost, dtype: object"
      ]
     },
     "execution_count": 64,
     "metadata": {},
     "output_type": "execute_result"
    }
   ],
   "source": [
    "trips.groupby(trips['date'].dt.strftime('%B'))['total_cost'].sum()\n",
    "\n",
    "#dt.strftime is the accessor in pandas to grab a part of the datetime object.'%B' is the full month name\n",
    "# here are some other options \n",
    "\n",
    "'''\n",
    "    %Y: Year with century as a decimal number (e.g., 2022).\n",
    "    %m: Month as a zero-padded decimal number (01, 02, ..., 12).\n",
    "    %d: Day of the month as a zero-padded decimal number (01, 02, ..., 31).\n",
    "    %H: Hour (00, 01, ..., 23).\n",
    "    %M: Minute (00, 01, ..., 59).\n",
    "    %S: Second (00, 01, ..., 59).\n",
    "'''\n",
    "\n",
    "# for example, the average per year: \n",
    "\n",
    "trips.groupby(trips['date'].dt.strftime('%Y'))['total_cost'].mean()"
   ]
  },
  {
   "cell_type": "code",
   "execution_count": null,
   "metadata": {},
   "outputs": [
    {
     "data": {
      "text/plain": [
       "date\n",
       "00    119.82\n",
       "02     37.10\n",
       "03    144.12\n",
       "04     74.42\n",
       "05    127.83\n",
       "06     40.97\n",
       "36     18.65\n",
       "37     87.11\n",
       "38    157.14\n",
       "39     79.44\n",
       "40    115.12\n",
       "41     15.47\n",
       "42     35.53\n",
       "43     46.03\n",
       "44      9.97\n",
       "45    105.22\n",
       "46     20.60\n",
       "47    118.14\n",
       "48     85.66\n",
       "49     14.38\n",
       "50     96.07\n",
       "51     98.99\n",
       "Name: total_cost, dtype: object"
      ]
     },
     "execution_count": 65,
     "metadata": {},
     "output_type": "execute_result"
    }
   ],
   "source": [
    "# group by week: \n",
    "trips.groupby(trips['date'].dt.strftime('%U'))['total_cost'].sum()"
   ]
  },
  {
   "cell_type": "code",
   "execution_count": null,
   "metadata": {},
   "outputs": [
    {
     "data": {
      "text/plain": [
       "date\n",
       "December     6\n",
       "February     6\n",
       "January      7\n",
       "November     8\n",
       "October      7\n",
       "September    7\n",
       "Name: id, dtype: int64"
      ]
     },
     "execution_count": 66,
     "metadata": {},
     "output_type": "execute_result"
    }
   ],
   "source": [
    "# How many trips per week on average do I go to the grocery store? \n",
    "trips.groupby(trips['date'].dt.strftime('%B'))['id'].count()"
   ]
  },
  {
   "cell_type": "code",
   "execution_count": null,
   "metadata": {},
   "outputs": [
    {
     "data": {
      "text/html": [
       "<div>\n",
       "<style scoped>\n",
       "    .dataframe tbody tr th:only-of-type {\n",
       "        vertical-align: middle;\n",
       "    }\n",
       "\n",
       "    .dataframe tbody tr th {\n",
       "        vertical-align: top;\n",
       "    }\n",
       "\n",
       "    .dataframe thead th {\n",
       "        text-align: right;\n",
       "    }\n",
       "</style>\n",
       "<table border=\"1\" class=\"dataframe\">\n",
       "  <thead>\n",
       "    <tr style=\"text-align: right;\">\n",
       "      <th></th>\n",
       "      <th>id</th>\n",
       "      <th>store_id</th>\n",
       "      <th>date</th>\n",
       "    </tr>\n",
       "  </thead>\n",
       "  <tbody>\n",
       "    <tr>\n",
       "      <th>count</th>\n",
       "      <td>41.000000</td>\n",
       "      <td>41.000000</td>\n",
       "      <td>41</td>\n",
       "    </tr>\n",
       "    <tr>\n",
       "      <th>mean</th>\n",
       "      <td>21.926829</td>\n",
       "      <td>4.560976</td>\n",
       "      <td>2023-11-27 15:48:17.560975616</td>\n",
       "    </tr>\n",
       "    <tr>\n",
       "      <th>min</th>\n",
       "      <td>1.000000</td>\n",
       "      <td>1.000000</td>\n",
       "      <td>2023-09-07 00:00:00</td>\n",
       "    </tr>\n",
       "    <tr>\n",
       "      <th>25%</th>\n",
       "      <td>11.000000</td>\n",
       "      <td>2.000000</td>\n",
       "      <td>2023-10-15 00:00:00</td>\n",
       "    </tr>\n",
       "    <tr>\n",
       "      <th>50%</th>\n",
       "      <td>21.000000</td>\n",
       "      <td>4.000000</td>\n",
       "      <td>2023-11-27 00:00:00</td>\n",
       "    </tr>\n",
       "    <tr>\n",
       "      <th>75%</th>\n",
       "      <td>33.000000</td>\n",
       "      <td>8.000000</td>\n",
       "      <td>2024-01-18 00:00:00</td>\n",
       "    </tr>\n",
       "    <tr>\n",
       "      <th>max</th>\n",
       "      <td>43.000000</td>\n",
       "      <td>10.000000</td>\n",
       "      <td>2024-02-16 00:00:00</td>\n",
       "    </tr>\n",
       "    <tr>\n",
       "      <th>std</th>\n",
       "      <td>12.861552</td>\n",
       "      <td>3.162663</td>\n",
       "      <td>NaN</td>\n",
       "    </tr>\n",
       "  </tbody>\n",
       "</table>\n",
       "</div>"
      ],
      "text/plain": [
       "              id   store_id                           date\n",
       "count  41.000000  41.000000                             41\n",
       "mean   21.926829   4.560976  2023-11-27 15:48:17.560975616\n",
       "min     1.000000   1.000000            2023-09-07 00:00:00\n",
       "25%    11.000000   2.000000            2023-10-15 00:00:00\n",
       "50%    21.000000   4.000000            2023-11-27 00:00:00\n",
       "75%    33.000000   8.000000            2024-01-18 00:00:00\n",
       "max    43.000000  10.000000            2024-02-16 00:00:00\n",
       "std    12.861552   3.162663                            NaN"
      ]
     },
     "execution_count": 73,
     "metadata": {},
     "output_type": "execute_result"
    }
   ],
   "source": [
    "#summary statistics of trips table: \n",
    "trips.describe()\n"
   ]
  },
  {
   "cell_type": "code",
   "execution_count": null,
   "metadata": {},
   "outputs": [
    {
     "name": "stdout",
     "output_type": "stream",
     "text": [
      "id                     int64\n",
      "store_id               int64\n",
      "date          datetime64[ns]\n",
      "total_cost            object\n",
      "dtype: object\n"
     ]
    }
   ],
   "source": [
    "print(trips.dtypes)"
   ]
  },
  {
   "cell_type": "code",
   "execution_count": null,
   "metadata": {},
   "outputs": [],
   "source": [
    "# i've discovered that upon pulling the data for the trips table, the total_cost column was not identified as numeric, so it was being exluded from trips.describe()\n",
    "#fix:\n",
    "trips['total_cost'] = pd.to_numeric(trips['total_cost'], errors = 'coerce')"
   ]
  },
  {
   "cell_type": "code",
   "execution_count": null,
   "metadata": {},
   "outputs": [
    {
     "name": "stdout",
     "output_type": "stream",
     "text": [
      "trip_id            int64\n",
      "product_name      object\n",
      "quantity_unit     object\n",
      "quantity          object\n",
      "price_per_unit    object\n",
      "total_price       object\n",
      "sku               object\n",
      "weight_oz         object\n",
      "dtype: object\n"
     ]
    }
   ],
   "source": [
    "print(items.dtypes)"
   ]
  },
  {
   "cell_type": "code",
   "execution_count": null,
   "metadata": {},
   "outputs": [
    {
     "data": {
      "text/plain": [
       "5.4"
      ]
     },
     "execution_count": 68,
     "metadata": {},
     "output_type": "execute_result"
    }
   ],
   "source": [
    "#how many days/months does this dataset cover ? \n",
    "time_span = trips['date'].max() - trips['date'].min()\n",
    "\n",
    "# duration in months - a bit over 5 months of shopping data \n",
    "time_span.days / 30\n",
    "\n"
   ]
  },
  {
   "cell_type": "code",
   "execution_count": null,
   "metadata": {},
   "outputs": [],
   "source": [
    "# let's do something fun. I want to know the frequency of trips per grocery store. \n",
    "# to do this, I will need to join trips with store.\n",
    "\n",
    "trip_freq_per_store = \"SELECT s.name, count(t.date) FROM store as s JOIN trips as t ON s.id = t.store_id GROUP BY name\"\n",
    "\n",
    "cursor.execute(trip_freq_per_store)\n"
   ]
  },
  {
   "cell_type": "code",
   "execution_count": null,
   "metadata": {},
   "outputs": [],
   "source": [
    "#generalizing table grabber to accept any query, also using cursor.fetchall() command\n",
    "\n",
    "def table_grabber2(query):\n",
    "\n",
    "    cursor.execute(query)\n",
    "\n",
    "    query_data = cursor.fetchall()\n",
    "    \n",
    "    col_names = [i[0] for i in cursor.description]\n",
    "\n",
    "    df = pd.DataFrame(data, columns = col_names)\n",
    "\n",
    "    return df"
   ]
  },
  {
   "cell_type": "code",
   "execution_count": null,
   "metadata": {},
   "outputs": [
    {
     "ename": "InternalError",
     "evalue": "Unread result found",
     "output_type": "error",
     "traceback": [
      "\u001b[1;31m---------------------------------------------------------------------------\u001b[0m",
      "\u001b[1;31mInternalError\u001b[0m                             Traceback (most recent call last)",
      "Cell \u001b[1;32mIn[71], line 1\u001b[0m\n\u001b[1;32m----> 1\u001b[0m \u001b[43mtable_grabber2\u001b[49m\u001b[43m(\u001b[49m\u001b[43mtrip_freq_per_store\u001b[49m\u001b[43m)\u001b[49m\n",
      "Cell \u001b[1;32mIn[70], line 5\u001b[0m, in \u001b[0;36mtable_grabber2\u001b[1;34m(query)\u001b[0m\n\u001b[0;32m      3\u001b[0m \u001b[38;5;28;01mdef\u001b[39;00m \u001b[38;5;21mtable_grabber2\u001b[39m(query):\n\u001b[1;32m----> 5\u001b[0m     \u001b[43mcursor\u001b[49m\u001b[38;5;241;43m.\u001b[39;49m\u001b[43mexecute\u001b[49m\u001b[43m(\u001b[49m\u001b[43mquery\u001b[49m\u001b[43m)\u001b[49m\n\u001b[0;32m      7\u001b[0m     query_data \u001b[38;5;241m=\u001b[39m cursor\u001b[38;5;241m.\u001b[39mfetchall()\n\u001b[0;32m      9\u001b[0m     col_names \u001b[38;5;241m=\u001b[39m [i[\u001b[38;5;241m0\u001b[39m] \u001b[38;5;28;01mfor\u001b[39;00m i \u001b[38;5;129;01min\u001b[39;00m cursor\u001b[38;5;241m.\u001b[39mdescription]\n",
      "File \u001b[1;32mc:\\Python312\\Lib\\site-packages\\mysql\\connector\\cursor_cext.py:347\u001b[0m, in \u001b[0;36mCMySQLCursor.execute\u001b[1;34m(self, operation, params, multi)\u001b[0m\n\u001b[0;32m    345\u001b[0m \u001b[38;5;28;01mexcept\u001b[39;00m (ProgrammingError, \u001b[38;5;167;01mReferenceError\u001b[39;00m) \u001b[38;5;28;01mas\u001b[39;00m err:\n\u001b[0;32m    346\u001b[0m     \u001b[38;5;28;01mraise\u001b[39;00m ProgrammingError(\u001b[38;5;124m\"\u001b[39m\u001b[38;5;124mCursor is not connected\u001b[39m\u001b[38;5;124m\"\u001b[39m, \u001b[38;5;241m2055\u001b[39m) \u001b[38;5;28;01mfrom\u001b[39;00m \u001b[38;5;21;01merr\u001b[39;00m\n\u001b[1;32m--> 347\u001b[0m \u001b[38;5;28;43mself\u001b[39;49m\u001b[38;5;241;43m.\u001b[39;49m\u001b[43m_cnx\u001b[49m\u001b[38;5;241;43m.\u001b[39;49m\u001b[43mhandle_unread_result\u001b[49m\u001b[43m(\u001b[49m\u001b[43m)\u001b[49m\n\u001b[0;32m    349\u001b[0m stmt \u001b[38;5;241m=\u001b[39m \u001b[38;5;124mb\u001b[39m\u001b[38;5;124m\"\u001b[39m\u001b[38;5;124m\"\u001b[39m\n\u001b[0;32m    350\u001b[0m \u001b[38;5;28mself\u001b[39m\u001b[38;5;241m.\u001b[39mreset()\n",
      "File \u001b[1;32mc:\\Python312\\Lib\\site-packages\\mysql\\connector\\connection_cext.py:990\u001b[0m, in \u001b[0;36mCMySQLConnection.handle_unread_result\u001b[1;34m(self, prepared)\u001b[0m\n\u001b[0;32m    988\u001b[0m     \u001b[38;5;28mself\u001b[39m\u001b[38;5;241m.\u001b[39mconsume_results()\n\u001b[0;32m    989\u001b[0m \u001b[38;5;28;01melif\u001b[39;00m unread_result:\n\u001b[1;32m--> 990\u001b[0m     \u001b[38;5;28;01mraise\u001b[39;00m InternalError(\u001b[38;5;124m\"\u001b[39m\u001b[38;5;124mUnread result found\u001b[39m\u001b[38;5;124m\"\u001b[39m)\n",
      "\u001b[1;31mInternalError\u001b[0m: Unread result found"
     ]
    }
   ],
   "source": [
    "table_grabber2(trip_freq_per_store)"
   ]
  },
  {
   "cell_type": "code",
   "execution_count": 1,
   "metadata": {},
   "outputs": [],
   "source": [
    "#scratch \n",
    "datatypes = {2: int, 253: str, 246: float, 10: dt.datetime }\n",
    "\n",
    "    relevant_data = [(t[0],t[1]) for t in cursor.description]\n",
    "    relevant_dict = {key:value for key,value in relevant_data}\n",
    "\n",
    "    for key, value in relevant_dict.items(): \n",
    "        if value in datatypes: \n",
    "            relevant_dict[key] = datatypes[value]\n",
    "\n",
    "\n",
    "    df = pd.DataFrame(selected_table, columns = [i[0] for i in cursor.description])\n",
    "\n",
    "    df.astype(dtype = relevant_dict)\n",
    "\n",
    "    print(df.dtypes)"
   ]
  },
  {
   "cell_type": "code",
   "execution_count": 15,
   "metadata": {},
   "outputs": [],
   "source": [
    "# libraries\n",
    "import mysql.connector\n",
    "import pandas as pd \n",
    "import numpy as np \n",
    "import datetime as dt\n",
    "\n",
    "#import credentials for connecting to db from config.py file\n",
    "from config import HOST, DATABASE, USERNAME, PASSWORD\n",
    "\n",
    "#establishing connection to grocery db\n",
    "\n",
    "def open_connection(): \n",
    "    try:\n",
    "        connection = mysql.connector.connect(\n",
    "            host=HOST,\n",
    "            database=DATABASE,\n",
    "            user=USERNAME,\n",
    "            password=PASSWORD\n",
    "        )\n",
    "\n",
    "        if connection.is_connected():\n",
    "            cursor = connection.cursor()\n",
    "            print(\"Connected to GROCERY database.\")\n",
    "\n",
    "            return connection, cursor \n",
    "\n",
    "    except mysql.connector.Error as err:\n",
    "        print(f\"Error: {err}\")\n"
   ]
  },
  {
   "cell_type": "code",
   "execution_count": 18,
   "metadata": {},
   "outputs": [
    {
     "name": "stdout",
     "output_type": "stream",
     "text": [
      "Connected to GROCERY database.\n"
     ]
    }
   ],
   "source": [
    "connection, cursor = open_connection()"
   ]
  },
  {
   "cell_type": "code",
   "execution_count": 19,
   "metadata": {},
   "outputs": [
    {
     "name": "stdout",
     "output_type": "stream",
     "text": [
      "CMySQLCursor: (Nothing executed yet)\n"
     ]
    }
   ],
   "source": [
    "print(cursor)"
   ]
  },
  {
   "cell_type": "code",
   "execution_count": 20,
   "metadata": {},
   "outputs": [],
   "source": [
    "def import_tables(cursor):\n",
    "    cursor.execute(\"SHOW TABLES\")\n",
    "    tables = cursor.fetchall()\n",
    "    return tables\n"
   ]
  },
  {
   "cell_type": "code",
   "execution_count": 55,
   "metadata": {},
   "outputs": [],
   "source": [
    "tables = import_tables(cursor)\n",
    "\n"
   ]
  },
  {
   "cell_type": "code",
   "execution_count": 56,
   "metadata": {},
   "outputs": [],
   "source": [
    "all_table_names = [table[0] for table in tables]"
   ]
  },
  {
   "cell_type": "code",
   "execution_count": 57,
   "metadata": {},
   "outputs": [
    {
     "name": "stdout",
     "output_type": "stream",
     "text": [
      "['gas', 'items', 'pb_compare', 'peanut_butter_view', 'store', 'trips']\n"
     ]
    }
   ],
   "source": [
    "print(all_table_names)"
   ]
  },
  {
   "cell_type": "code",
   "execution_count": 62,
   "metadata": {},
   "outputs": [],
   "source": [
    "#create a dictionary of tables based on all_table_names\n",
    "\n",
    "def table_generator(all_tables, connection): \n",
    "\n",
    "    table_dictionary = {}\n",
    "\n",
    "    for table_name in all_tables:\n",
    "        query = \"SELECT * FROM \" + table_name\n",
    "        table = pd.read_sql(query, connection, parse_dates = ['date'], coerce_float= True)\n",
    "        \n",
    "        table_dictionary[table_name] = table\n",
    "\n",
    "    return table_dictionary\n",
    "    "
   ]
  },
  {
   "cell_type": "code",
   "execution_count": 63,
   "metadata": {},
   "outputs": [
    {
     "name": "stderr",
     "output_type": "stream",
     "text": [
      "C:\\Users\\chanks\\AppData\\Local\\Temp\\ipykernel_14040\\2782467496.py:9: UserWarning: pandas only supports SQLAlchemy connectable (engine/connection) or database string URI or sqlite3 DBAPI2 connection. Other DBAPI2 objects are not tested. Please consider using SQLAlchemy.\n",
      "  table = pd.read_sql(query, connection, parse_dates = ['date'], coerce_float= True)\n",
      "C:\\Users\\chanks\\AppData\\Local\\Temp\\ipykernel_14040\\2782467496.py:9: UserWarning: pandas only supports SQLAlchemy connectable (engine/connection) or database string URI or sqlite3 DBAPI2 connection. Other DBAPI2 objects are not tested. Please consider using SQLAlchemy.\n",
      "  table = pd.read_sql(query, connection, parse_dates = ['date'], coerce_float= True)\n"
     ]
    }
   ],
   "source": [
    "grocery_tables = table_generator(all_table_names, connection)"
   ]
  },
  {
   "cell_type": "code",
   "execution_count": 67,
   "metadata": {},
   "outputs": [
    {
     "data": {
      "text/plain": [
       "id                     int64\n",
       "store_id               int64\n",
       "date          datetime64[ns]\n",
       "total_cost           float64\n",
       "dtype: object"
      ]
     },
     "execution_count": 67,
     "metadata": {},
     "output_type": "execute_result"
    }
   ],
   "source": [
    "grocery_tables['trips'].dtypes"
   ]
  },
  {
   "cell_type": "code",
   "execution_count": null,
   "metadata": {},
   "outputs": [],
   "source": []
  }
 ],
 "metadata": {
  "kernelspec": {
   "display_name": "Python 3",
   "language": "python",
   "name": "python3"
  },
  "language_info": {
   "codemirror_mode": {
    "name": "ipython",
    "version": 3
   },
   "file_extension": ".py",
   "mimetype": "text/x-python",
   "name": "python",
   "nbconvert_exporter": "python",
   "pygments_lexer": "ipython3",
   "version": "3.12.0"
  }
 },
 "nbformat": 4,
 "nbformat_minor": 2
}
