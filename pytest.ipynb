{
 "cells": [
  {
   "cell_type": "code",
   "execution_count": 1,
   "metadata": {},
   "outputs": [
    {
     "name": "stderr",
     "output_type": "stream",
     "text": [
      "C:\\Users\\chanks\\AppData\\Local\\Temp\\ipykernel_17684\\916966793.py:2: DeprecationWarning: \n",
      "Pyarrow will become a required dependency of pandas in the next major release of pandas (pandas 3.0),\n",
      "(to allow more performant data types, such as the Arrow string type, and better interoperability with other libraries)\n",
      "but was not found to be installed on your system.\n",
      "If this would cause problems for you,\n",
      "please provide us feedback at https://github.com/pandas-dev/pandas/issues/54466\n",
      "        \n",
      "  import pandas as pd\n"
     ]
    }
   ],
   "source": [
    "import mysql.connector\n",
    "import pandas as pd \n",
    "import numpy as np \n",
    "from config import HOST, DATABASE, USERNAME, PASSWORD"
   ]
  },
  {
   "cell_type": "code",
   "execution_count": 3,
   "metadata": {},
   "outputs": [
    {
     "name": "stdout",
     "output_type": "stream",
     "text": [
      "Connected to MySQL database\n"
     ]
    }
   ],
   "source": [
    "# connecting to grocery db\n",
    "\n",
    "try:\n",
    "    connection = mysql.connector.connect(\n",
    "        host=HOST,\n",
    "        database=DATABASE,\n",
    "        user=USERNAME,\n",
    "        password=PASSWORD\n",
    "    )\n",
    "\n",
    "    if connection.is_connected():\n",
    "        print(\"Connected to MySQL database\")\n",
    "\n",
    "        # Your database operations go here\n",
    "\n",
    "except mysql.connector.Error as err:\n",
    "    print(f\"Error: {err}\")\n",
    "\n",
    "# finally:\n",
    "    # Close the connection in the finally block to ensure it's always closed\n",
    "    #if 'connection' in locals() and connection.is_connected():\n",
    "    #    connection.close()\n",
    "    #    print(\"Connection closed\")"
   ]
  },
  {
   "cell_type": "code",
   "execution_count": 4,
   "metadata": {},
   "outputs": [],
   "source": [
    "cursor = connection.cursor() "
   ]
  },
  {
   "cell_type": "code",
   "execution_count": 5,
   "metadata": {},
   "outputs": [],
   "source": [
    "stores = (\"SELECT * FROM STORE\")\n",
    "store_table = cursor.execute(stores)"
   ]
  },
  {
   "cell_type": "code",
   "execution_count": 10,
   "metadata": {},
   "outputs": [
    {
     "name": "stdout",
     "output_type": "stream",
     "text": [
      "1 Fred Meyer 3805 SE Hawthorne Blvd\n",
      "2 Winco 7979 SE Powell Blvd\n",
      "3 US FOODS CHEFSTORE 731 SE Stephens St\n",
      "4 Trader Joes 4121 NE Halsey St\n",
      "5 Whole Foods 2825 E Burnside St\n",
      "6 Target 3031 SE Powell Blvd\n",
      "7 New Seasons Market 1954 SE Division St\n",
      "8 Costco 13130 SE 84th Ave, Clackamas, OR 97015\n",
      "9 Fred Meyer 6615 NE Glisan St\n",
      "10 New Seasons Market 3210 NE Broadway\n"
     ]
    }
   ],
   "source": [
    "for (id, name, address) in cursor: \n",
    "    print(id, name, address)"
   ]
  },
  {
   "cell_type": "code",
   "execution_count": null,
   "metadata": {},
   "outputs": [],
   "source": []
  }
 ],
 "metadata": {
  "kernelspec": {
   "display_name": "Python 3",
   "language": "python",
   "name": "python3"
  },
  "language_info": {
   "codemirror_mode": {
    "name": "ipython",
    "version": 3
   },
   "file_extension": ".py",
   "mimetype": "text/x-python",
   "name": "python",
   "nbconvert_exporter": "python",
   "pygments_lexer": "ipython3",
   "version": "3.12.0"
  }
 },
 "nbformat": 4,
 "nbformat_minor": 2
}
